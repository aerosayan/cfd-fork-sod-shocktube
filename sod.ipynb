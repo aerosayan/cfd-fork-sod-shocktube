{
 "metadata": {
  "name": "",
  "signature": "sha256:588e96d42f76efd1413083b45a823d47aa5a10d207075c25ef79e9a4b2ef2212"
 },
 "nbformat": 3,
 "nbformat_minor": 0,
 "worksheets": [
  {
   "cells": [
    {
     "cell_type": "heading",
     "level": 1,
     "metadata": {},
     "source": [
      "Sod shock tube calculator"
     ]
    },
    {
     "cell_type": "markdown",
     "metadata": {},
     "source": [
      "Produces analytical solutions for well known shock tube test problem after known time of evolution."
     ]
    },
    {
     "cell_type": "heading",
     "level": 2,
     "metadata": {},
     "source": [
      "Problem statement"
     ]
    },
    {
     "cell_type": "markdown",
     "metadata": {},
     "source": [
      "A shock tube consists of a long tube filled with the same gas in two different physical states. \n",
      "The tube is divided into two parts, separated by a diaphragm. The initial state is defined by the values for density, \n",
      "pressure and velocity. Figure below shows initial setup."
     ]
    },
    {
     "cell_type": "markdown",
     "metadata": {},
     "source": [
      "<img src=\"figs/shock_tube_t0.png\">"
     ]
    },
    {
     "cell_type": "markdown",
     "metadata": {},
     "source": [
      "When the membrane bursts, discontinuity between the two initial states breaks into leftward and rightward moving waves, separated by a contact surface."
     ]
    },
    {
     "cell_type": "markdown",
     "metadata": {},
     "source": [
      "<img src=\"figs/shock_tube_t_n.png\">"
     ]
    },
    {
     "cell_type": "markdown",
     "metadata": {},
     "source": [
      "- Region 5 is the low pressure gas which is not disturbed by the shock wave. \n",
      "- Regions 3 and 4 (divided by the contact surface) contain the gas immediately behind the shock traveling at a constant speed. \n",
      "  - The contact surface across which the density and the temperature are discontinuous lies within this zone. \n",
      "- The zone between the head and the tail of the expansion fan is noted as Region 2. \n",
      "  - In this zone, the flow properties gradually change since the expansion process is isentropic. \n",
      "- Region 1 denotes the undisturbed high pressure gas."
     ]
    },
    {
     "cell_type": "heading",
     "level": 2,
     "metadata": {},
     "source": [
      "Obligatory import modules"
     ]
    },
    {
     "cell_type": "code",
     "collapsed": false,
     "input": [
      "# %matplotlib inline\n",
      "%pylab inline\n",
      "pylab.rcParams['figure.figsize'] = (14, 10)\n",
      "import sod\n",
      "import numpy as np\n",
      "import matplotlib.pyplot as plt"
     ],
     "language": "python",
     "metadata": {},
     "outputs": [
      {
       "output_type": "stream",
       "stream": "stdout",
       "text": [
        "Populating the interactive namespace from numpy and matplotlib\n"
       ]
      }
     ],
     "prompt_number": 1
    },
    {
     "cell_type": "heading",
     "level": 2,
     "metadata": {},
     "source": [
      "Setting up the input"
     ]
    },
    {
     "cell_type": "markdown",
     "metadata": {},
     "source": [
      "Let's define geometry: Pipe that spans from 0 to 1 and has initial discontinuity at 0.5.\n",
      "\n",
      "Note that one could put down any pipe length"
     ]
    },
    {
     "cell_type": "code",
     "collapsed": false,
     "input": [
      "geometry = (0., 1., 0.5)"
     ],
     "language": "python",
     "metadata": {},
     "outputs": [],
     "prompt_number": 2
    },
    {
     "cell_type": "markdown",
     "metadata": {},
     "source": [
      "Let's define initial left and right state: pressure, density and velocity. "
     ]
    },
    {
     "cell_type": "code",
     "collapsed": false,
     "input": [
      "left_state = (1., 1., 0)\n",
      "right_state = (0.1, 0.125, 0.)"
     ],
     "language": "python",
     "metadata": {},
     "outputs": [],
     "prompt_number": 3
    },
    {
     "cell_type": "markdown",
     "metadata": {},
     "source": [
      "Now it's time to define fluid type by setting specific heat constant $\\gamma$: \n",
      "\n",
      "$\\gamma = 1.4$ is specific heat constant for the air, right?"
     ]
    },
    {
     "cell_type": "code",
     "collapsed": false,
     "input": [
      "spec_heat = 1.4"
     ],
     "language": "python",
     "metadata": {},
     "outputs": [],
     "prompt_number": 4
    },
    {
     "cell_type": "markdown",
     "metadata": {},
     "source": [
      "Finally, we'll set end time to plot our solution and set number of points that we're going to draw our rarefaction wave"
     ]
    },
    {
     "cell_type": "code",
     "collapsed": false,
     "input": [
      "end_time = 0.2\n",
      "npts = 500"
     ],
     "language": "python",
     "metadata": {},
     "outputs": [],
     "prompt_number": 5
    },
    {
     "cell_type": "heading",
     "level": 2,
     "metadata": {},
     "source": [
      "Solving Euler's equations"
     ]
    },
    {
     "cell_type": "markdown",
     "metadata": {},
     "source": [
      "It's time to solve our equation"
     ]
    },
    {
     "cell_type": "code",
     "collapsed": false,
     "input": [
      "positions, regions, values = sod.solve(left_state=left_state, right_state=right_state,\n",
      "                                           geometry=geometry, t=end_time, gamma=spec_heat, npts=npts)"
     ],
     "language": "python",
     "metadata": {},
     "outputs": [],
     "prompt_number": 6
    },
    {
     "cell_type": "markdown",
     "metadata": {},
     "source": [
      "**That's it!**\n",
      "\n",
      "Positions are dictionary of region names and their positions in the pipe after `end_time` seconds.  \n",
      "Now we have positions, regions and their values.  \n",
      "Let's print positions for each and every region"
     ]
    },
    {
     "cell_type": "code",
     "collapsed": false,
     "input": [
      "print('Positions:')\n",
      "for desc, vals in positions.items():\n",
      "    print('{0:10} : {1}'.format(desc, vals))"
     ],
     "language": "python",
     "metadata": {},
     "outputs": [
      {
       "output_type": "stream",
       "stream": "stdout",
       "text": [
        "Positions:\n",
        "Shock      : 0.8504311464060357\n",
        "Head of Rarefaction : 0.26335680867601535\n",
        "Foot of Rarefaction : 0.4859454374877634\n",
        "Contact Discontinuity : 0.6854905240097902\n"
       ]
      }
     ],
     "prompt_number": 7
    },
    {
     "cell_type": "markdown",
     "metadata": {},
     "source": [
      "---"
     ]
    },
    {
     "cell_type": "markdown",
     "metadata": {},
     "source": [
      "Let's print constant pressure, density and velocities for all regions except for rarefaction wave. The regions' dictionary is not sorted, by the way."
     ]
    },
    {
     "cell_type": "code",
     "collapsed": false,
     "input": [
      "print('States:')\n",
      "for desc, vals in regions.items():\n",
      "    print('{0:10} : {1}'.format(desc, vals))"
     ],
     "language": "python",
     "metadata": {},
     "outputs": [
      {
       "output_type": "stream",
       "stream": "stdout",
       "text": [
        "States:\n",
        "Region 5   : (0.1, 0.125, 0.0)\n",
        "Region 3   : (0.30313017805064707, 0.42631942817849544, 0.92745262004895057)\n",
        "Region 4   : (0.30313017805064707, 0.26557371170530725, 0.92745262004895057)\n",
        "Region 2   : RAREFACTION\n",
        "Region 1   : (1.0, 1.0, 0)\n"
       ]
      }
     ],
     "prompt_number": 8
    },
    {
     "cell_type": "markdown",
     "metadata": {},
     "source": [
      "---\n",
      "We didn't calculate energy, temperature and Mach number, but that shouldn't be that hard:  \n",
      "Energy: $E = \\frac{p}{\\gamma-1} + \\frac{1}{2}u^{2}$  \n",
      "Temperature: $T = \\frac{p}{\\rho}$   \n",
      "Speed of sound: $c = \\sqrt{\\frac{p}{\\rho}}$  \n",
      "Mach number: $M = \\frac{u}{c}$"
     ]
    },
    {
     "cell_type": "code",
     "collapsed": false,
     "input": [
      "E = values['p']/(spec_heat-1.) + 0.5*values['u']**2\n",
      "T = values['p']/values['rho']\n",
      "M = values['u']/np.sqrt(values['p']/values['rho'])"
     ],
     "language": "python",
     "metadata": {},
     "outputs": [],
     "prompt_number": 9
    },
    {
     "cell_type": "markdown",
     "metadata": {},
     "source": [
      "and add them to previously computed results:"
     ]
    },
    {
     "cell_type": "code",
     "collapsed": false,
     "input": [
      "values.update({\"E\": E, \"T\": T, \"M\": M})"
     ],
     "language": "python",
     "metadata": {},
     "outputs": [],
     "prompt_number": 10
    },
    {
     "cell_type": "markdown",
     "metadata": {},
     "source": [
      "---\n",
      "Finally, let's plot the solution across domain of interest. The values are saved in dictionary variable named `values`."
     ]
    },
    {
     "cell_type": "code",
     "collapsed": false,
     "input": [
      "plt.close('all')\n",
      "fun, axarr = plt.subplots(len(values)-1, sharex=True)\n",
      "\n",
      "axarr[0].plot(values['x'], values['p'], linewidth=1.5, color='b')\n",
      "axarr[0].set_ylabel('pressure')\n",
      "axarr[0].set_ylim(0, 1.1)\n",
      "\n",
      "axarr[1].plot(values['x'], values['rho'], linewidth=1.5, color='r')\n",
      "axarr[1].set_ylabel('density')\n",
      "axarr[1].set_ylim(0, 1.1)\n",
      "\n",
      "axarr[2].plot(values['x'], values['u'], linewidth=1.5, color='g')\n",
      "axarr[2].set_ylabel('velocity')\n",
      "\n",
      "axarr[3].plot(values['x'], values['E'], linewidth=1.5, color='k')\n",
      "axarr[3].set_ylabel('energy')\n",
      "axarr[3].set_ylim(0, 2.6)\n",
      "\n",
      "axarr[4].plot(values['x'], values['T'], linewidth=1.5, color='c')\n",
      "axarr[4].set_ylabel('temperature')\n",
      "\n",
      "axarr[5].plot(values['x'], values['M'], linewidth=1.5, color='y')\n",
      "axarr[5].set_ylabel('Mach number')"
     ],
     "language": "python",
     "metadata": {},
     "outputs": [
      {
       "metadata": {},
       "output_type": "pyout",
       "prompt_number": 11,
       "text": [
        "<matplotlib.text.Text at 0x7f402f939b38>"
       ]
      },
      {
       "metadata": {},
       "output_type": "display_data",
       "png": "[encoded data removed]",
       "text": [
        "<matplotlib.figure.Figure at 0x7f402fece198>"
       ]
      }
     ],
     "prompt_number": 11
    }
   ],
   "metadata": {}
  }
 ]
}